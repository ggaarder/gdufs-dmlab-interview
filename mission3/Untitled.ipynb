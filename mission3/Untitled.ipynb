{
 "cells": [
  {
   "cell_type": "code",
   "execution_count": 1,
   "metadata": {},
   "outputs": [],
   "source": [
    "import pandas as pd"
   ]
  },
  {
   "cell_type": "code",
   "execution_count": 2,
   "metadata": {},
   "outputs": [
    {
     "name": "stderr",
     "output_type": "stream",
     "text": [
      "C:\\Users\\C50353\\AppData\\Local\\Continuum\\anaconda3\\lib\\site-packages\\IPython\\core\\interactiveshell.py:3058: DtypeWarning: Columns (0,9,10,12) have mixed types. Specify dtype option on import or set low_memory=False.\n",
      "  interactivity=interactivity, compiler=compiler, result=result)\n"
     ]
    }
   ],
   "source": [
    "dat = pd.read_csv(\"beijing.csv\")"
   ]
  },
  {
   "cell_type": "code",
   "execution_count": 4,
   "metadata": {},
   "outputs": [],
   "source": [
    "del dat[\"id\"]"
   ]
  },
  {
   "cell_type": "code",
   "execution_count": 6,
   "metadata": {},
   "outputs": [],
   "source": [
    "del dat[\"经度\"]\n",
    "del dat[\"维度\"]\n",
    "del dat[\"起居室\"]\n",
    "del dat[\"会客厅\"]\n",
    "del dat[\"厨房\"]\n",
    "del dat[\"洗手间\"]\n",
    "del dat[\"楼层\"]\n",
    "del dat[\"是否有电梯\"]"
   ]
  },
  {
   "cell_type": "code",
   "execution_count": 8,
   "metadata": {},
   "outputs": [],
   "source": [
    "del dat[\"小区均价\"]"
   ]
  },
  {
   "cell_type": "code",
   "execution_count": 9,
   "metadata": {},
   "outputs": [
    {
     "data": {
      "text/html": [
       "<div>\n",
       "<style scoped>\n",
       "    .dataframe tbody tr th:only-of-type {\n",
       "        vertical-align: middle;\n",
       "    }\n",
       "\n",
       "    .dataframe tbody tr th {\n",
       "        vertical-align: top;\n",
       "    }\n",
       "\n",
       "    .dataframe thead th {\n",
       "        text-align: right;\n",
       "    }\n",
       "</style>\n",
       "<table border=\"1\" class=\"dataframe\">\n",
       "  <thead>\n",
       "    <tr style=\"text-align: right;\">\n",
       "      <th></th>\n",
       "      <th>交易时间/年</th>\n",
       "      <th>交易时间/月</th>\n",
       "      <th>交易时间/日</th>\n",
       "      <th>关注数</th>\n",
       "      <th>总价</th>\n",
       "      <th>面积</th>\n",
       "      <th>建筑时间</th>\n",
       "      <th>是否靠近地铁</th>\n",
       "    </tr>\n",
       "  </thead>\n",
       "  <tbody>\n",
       "    <tr>\n",
       "      <td>0</td>\n",
       "      <td>2016</td>\n",
       "      <td>8</td>\n",
       "      <td>9</td>\n",
       "      <td>106</td>\n",
       "      <td>415.0</td>\n",
       "      <td>131.00</td>\n",
       "      <td>2005</td>\n",
       "      <td>1</td>\n",
       "    </tr>\n",
       "    <tr>\n",
       "      <td>1</td>\n",
       "      <td>2016</td>\n",
       "      <td>7</td>\n",
       "      <td>28</td>\n",
       "      <td>126</td>\n",
       "      <td>575.0</td>\n",
       "      <td>132.38</td>\n",
       "      <td>2004</td>\n",
       "      <td>0</td>\n",
       "    </tr>\n",
       "    <tr>\n",
       "      <td>2</td>\n",
       "      <td>2016</td>\n",
       "      <td>12</td>\n",
       "      <td>11</td>\n",
       "      <td>48</td>\n",
       "      <td>1030.0</td>\n",
       "      <td>198.00</td>\n",
       "      <td>2005</td>\n",
       "      <td>0</td>\n",
       "    </tr>\n",
       "    <tr>\n",
       "      <td>3</td>\n",
       "      <td>2016</td>\n",
       "      <td>9</td>\n",
       "      <td>30</td>\n",
       "      <td>138</td>\n",
       "      <td>297.5</td>\n",
       "      <td>134.00</td>\n",
       "      <td>2008</td>\n",
       "      <td>0</td>\n",
       "    </tr>\n",
       "    <tr>\n",
       "      <td>4</td>\n",
       "      <td>2016</td>\n",
       "      <td>8</td>\n",
       "      <td>28</td>\n",
       "      <td>286</td>\n",
       "      <td>392.0</td>\n",
       "      <td>81.00</td>\n",
       "      <td>1960</td>\n",
       "      <td>1</td>\n",
       "    </tr>\n",
       "    <tr>\n",
       "      <td>...</td>\n",
       "      <td>...</td>\n",
       "      <td>...</td>\n",
       "      <td>...</td>\n",
       "      <td>...</td>\n",
       "      <td>...</td>\n",
       "      <td>...</td>\n",
       "      <td>...</td>\n",
       "      <td>...</td>\n",
       "    </tr>\n",
       "    <tr>\n",
       "      <td>318846</td>\n",
       "      <td>2016</td>\n",
       "      <td>6</td>\n",
       "      <td>10</td>\n",
       "      <td>8</td>\n",
       "      <td>350.0</td>\n",
       "      <td>170.07</td>\n",
       "      <td>2003</td>\n",
       "      <td>0</td>\n",
       "    </tr>\n",
       "    <tr>\n",
       "      <td>318847</td>\n",
       "      <td>2016</td>\n",
       "      <td>6</td>\n",
       "      <td>10</td>\n",
       "      <td>1</td>\n",
       "      <td>108.8</td>\n",
       "      <td>35.09</td>\n",
       "      <td>2009</td>\n",
       "      <td>1</td>\n",
       "    </tr>\n",
       "    <tr>\n",
       "      <td>318848</td>\n",
       "      <td>2016</td>\n",
       "      <td>6</td>\n",
       "      <td>5</td>\n",
       "      <td>2</td>\n",
       "      <td>359.0</td>\n",
       "      <td>102.17</td>\n",
       "      <td>2000</td>\n",
       "      <td>0</td>\n",
       "    </tr>\n",
       "    <tr>\n",
       "      <td>318849</td>\n",
       "      <td>2016</td>\n",
       "      <td>6</td>\n",
       "      <td>12</td>\n",
       "      <td>4</td>\n",
       "      <td>720.0</td>\n",
       "      <td>178.34</td>\n",
       "      <td>2003</td>\n",
       "      <td>0</td>\n",
       "    </tr>\n",
       "    <tr>\n",
       "      <td>318850</td>\n",
       "      <td>2016</td>\n",
       "      <td>6</td>\n",
       "      <td>11</td>\n",
       "      <td>0</td>\n",
       "      <td>450.0</td>\n",
       "      <td>92.45</td>\n",
       "      <td>鏈煡</td>\n",
       "      <td>1</td>\n",
       "    </tr>\n",
       "  </tbody>\n",
       "</table>\n",
       "<p>318851 rows × 8 columns</p>\n",
       "</div>"
      ],
      "text/plain": [
       "        交易时间/年  交易时间/月  交易时间/日  关注数      总价      面积  建筑时间  是否靠近地铁\n",
       "0         2016       8       9  106   415.0  131.00  2005       1\n",
       "1         2016       7      28  126   575.0  132.38  2004       0\n",
       "2         2016      12      11   48  1030.0  198.00  2005       0\n",
       "3         2016       9      30  138   297.5  134.00  2008       0\n",
       "4         2016       8      28  286   392.0   81.00  1960       1\n",
       "...        ...     ...     ...  ...     ...     ...   ...     ...\n",
       "318846    2016       6      10    8   350.0  170.07  2003       0\n",
       "318847    2016       6      10    1   108.8   35.09  2009       1\n",
       "318848    2016       6       5    2   359.0  102.17  2000       0\n",
       "318849    2016       6      12    4   720.0  178.34  2003       0\n",
       "318850    2016       6      11    0   450.0   92.45   鏈煡       1\n",
       "\n",
       "[318851 rows x 8 columns]"
      ]
     },
     "execution_count": 9,
     "metadata": {},
     "output_type": "execute_result"
    }
   ],
   "source": [
    "dat"
   ]
  },
  {
   "cell_type": "code",
   "execution_count": 10,
   "metadata": {},
   "outputs": [],
   "source": [
    "import matplotlib.pyplot as plt"
   ]
  },
  {
   "cell_type": "code",
   "execution_count": 16,
   "metadata": {},
   "outputs": [
    {
     "data": {
      "text/plain": [
       "[<matplotlib.lines.Line2D at 0x2b5d2778448>]"
      ]
     },
     "execution_count": 16,
     "metadata": {},
     "output_type": "execute_result"
    },
    {
     "data": {
      "image/png": "[encoded data removed]",
      "text/plain": [
       "<Figure size 432x288 with 1 Axes>"
      ]
     },
     "metadata": {
      "needs_background": "light"
     },
     "output_type": "display_data"
    }
   ],
   "source": [
    "plt.plot(dat[\"关注数\"])"
   ]
  },
  {
   "cell_type": "code",
   "execution_count": 17,
   "metadata": {
    "scrolled": false
   },
   "outputs": [
    {
     "data": {
      "text/plain": [
       "[<matplotlib.lines.Line2D at 0x2b5d257b648>]"
      ]
     },
     "execution_count": 17,
     "metadata": {},
     "output_type": "execute_result"
    },
    {
     "data": {
      "image/png": "[encoded data removed]",
      "text/plain": [
       "<Figure size 432x288 with 1 Axes>"
      ]
     },
     "metadata": {
      "needs_background": "light"
     },
     "output_type": "display_data"
    }
   ],
   "source": [
    "plt.plot(dat[\"总价\"])"
   ]
  },
  {
   "cell_type": "code",
   "execution_count": 19,
   "metadata": {},
   "outputs": [],
   "source": [
    "sum_price = dat[\"总价\"]"
   ]
  },
  {
   "cell_type": "code",
   "execution_count": 20,
   "metadata": {},
   "outputs": [
    {
     "data": {
      "text/plain": [
       "18130.0"
      ]
     },
     "execution_count": 20,
     "metadata": {},
     "output_type": "execute_result"
    }
   ],
   "source": [
    "sum_price.max()"
   ]
  },
  {
   "cell_type": "code",
   "execution_count": 24,
   "metadata": {},
   "outputs": [
    {
     "data": {
      "text/plain": [
       "67868"
      ]
     },
     "execution_count": 24,
     "metadata": {},
     "output_type": "execute_result"
    }
   ],
   "source": [
    "sum_price.idxmax()"
   ]
  },
  {
   "cell_type": "code",
   "execution_count": 26,
   "metadata": {},
   "outputs": [
    {
     "data": {
      "text/plain": [
       "交易时间/年      2017\n",
       "交易时间/月         3\n",
       "交易时间/日        30\n",
       "关注数            0\n",
       "总价         18130\n",
       "面积        1745.5\n",
       "建筑时间        2008\n",
       "是否靠近地铁         0\n",
       "Name: 67868, dtype: object"
      ]
     },
     "execution_count": 26,
     "metadata": {},
     "output_type": "execute_result"
    }
   ],
   "source": [
    "dat.loc[67868]"
   ]
  },
  {
   "cell_type": "code",
   "execution_count": 27,
   "metadata": {},
   "outputs": [
    {
     "data": {
      "text/plain": [
       "0.1"
      ]
     },
     "execution_count": 27,
     "metadata": {},
     "output_type": "execute_result"
    }
   ],
   "source": [
    "sum_price.min()"
   ]
  },
  {
   "cell_type": "code",
   "execution_count": 29,
   "metadata": {},
   "outputs": [
    {
     "data": {
      "text/plain": [
       "92969"
      ]
     },
     "execution_count": 29,
     "metadata": {},
     "output_type": "execute_result"
    }
   ],
   "source": [
    "sum_price.idxmin()"
   ]
  },
  {
   "cell_type": "code",
   "execution_count": 30,
   "metadata": {},
   "outputs": [
    {
     "data": {
      "text/plain": [
       "交易时间/年    2011\n",
       "交易时间/月       9\n",
       "交易时间/日      22\n",
       "关注数          0\n",
       "总价         0.1\n",
       "面积         110\n",
       "建筑时间      2002\n",
       "是否靠近地铁       0\n",
       "Name: 92969, dtype: object"
      ]
     },
     "execution_count": 30,
     "metadata": {},
     "output_type": "execute_result"
    }
   ],
   "source": [
    "dat.loc[92969]"
   ]
  },
  {
   "cell_type": "code",
   "execution_count": 31,
   "metadata": {},
   "outputs": [],
   "source": [
    "attention = dat[\"关注数\"]"
   ]
  },
  {
   "cell_type": "code",
   "execution_count": 32,
   "metadata": {},
   "outputs": [
    {
     "data": {
      "text/plain": [
       "[<matplotlib.lines.Line2D at 0x2b5d4199c08>]"
      ]
     },
     "execution_count": 32,
     "metadata": {},
     "output_type": "execute_result"
    },
    {
     "data": {
      "image/png": "[encoded data removed]",
      "text/plain": [
       "<Figure size 432x288 with 1 Axes>"
      ]
     },
     "metadata": {
      "needs_background": "light"
     },
     "output_type": "display_data"
    }
   ],
   "source": [
    "plt.plot(attention)"
   ]
  },
  {
   "cell_type": "code",
   "execution_count": 33,
   "metadata": {},
   "outputs": [
    {
     "data": {
      "text/plain": [
       "1143"
      ]
     },
     "execution_count": 33,
     "metadata": {},
     "output_type": "execute_result"
    }
   ],
   "source": [
    "attention.max()"
   ]
  },
  {
   "cell_type": "code",
   "execution_count": 35,
   "metadata": {},
   "outputs": [
    {
     "data": {
      "text/plain": [
       "76267"
      ]
     },
     "execution_count": 35,
     "metadata": {},
     "output_type": "execute_result"
    }
   ],
   "source": [
    "attention.idxmax()"
   ]
  },
  {
   "cell_type": "code",
   "execution_count": 36,
   "metadata": {},
   "outputs": [
    {
     "data": {
      "text/plain": [
       "交易时间/年     2017\n",
       "交易时间/月       12\n",
       "交易时间/日       31\n",
       "关注数        1143\n",
       "总价          380\n",
       "面积        32.54\n",
       "建筑时间       2005\n",
       "是否靠近地铁        1\n",
       "Name: 76267, dtype: object"
      ]
     },
     "execution_count": 36,
     "metadata": {},
     "output_type": "execute_result"
    }
   ],
   "source": [
    "dat.loc[76267]"
   ]
  },
  {
   "cell_type": "code",
   "execution_count": 37,
   "metadata": {},
   "outputs": [
    {
     "name": "stderr",
     "output_type": "stream",
     "text": [
      "C:\\Users\\C50353\\AppData\\Local\\Continuum\\anaconda3\\lib\\site-packages\\IPython\\core\\interactiveshell.py:3058: DtypeWarning: Columns (0,9,10,12) have mixed types. Specify dtype option on import or set low_memory=False.\n",
      "  interactivity=interactivity, compiler=compiler, result=result)\n"
     ]
    }
   ],
   "source": [
    "dat_full = pd.read_csv(\"beijing.csv\")"
   ]
  },
  {
   "cell_type": "code",
   "execution_count": 38,
   "metadata": {
    "scrolled": true
   },
   "outputs": [
    {
     "data": {
      "text/plain": [
       "id        101101590746 \n",
       "经度              116.343\n",
       "维度              39.9005\n",
       "交易时间/年             2017\n",
       "交易时间/月               12\n",
       "交易时间/日               31\n",
       "关注数                1143\n",
       "总价                  380\n",
       "面积                32.54\n",
       "起居室                   1\n",
       "会客厅                   1\n",
       "厨房                    1\n",
       "洗手间                   2\n",
       "楼层                   10\n",
       "建筑时间               2005\n",
       "是否有电梯                 1\n",
       "是否靠近地铁                1\n",
       "小区均价              92360\n",
       "Name: 76267, dtype: object"
      ]
     },
     "execution_count": 38,
     "metadata": {},
     "output_type": "execute_result"
    }
   ],
   "source": [
    "dat_full.loc[76267]"
   ]
  },
  {
   "cell_type": "code",
   "execution_count": 39,
   "metadata": {},
   "outputs": [
    {
     "data": {
      "text/html": [
       "<div>\n",
       "<style scoped>\n",
       "    .dataframe tbody tr th:only-of-type {\n",
       "        vertical-align: middle;\n",
       "    }\n",
       "\n",
       "    .dataframe tbody tr th {\n",
       "        vertical-align: top;\n",
       "    }\n",
       "\n",
       "    .dataframe thead th {\n",
       "        text-align: right;\n",
       "    }\n",
       "</style>\n",
       "<table border=\"1\" class=\"dataframe\">\n",
       "  <thead>\n",
       "    <tr style=\"text-align: right;\">\n",
       "      <th></th>\n",
       "      <th>交易时间/年</th>\n",
       "      <th>交易时间/月</th>\n",
       "      <th>交易时间/日</th>\n",
       "      <th>关注数</th>\n",
       "      <th>总价</th>\n",
       "      <th>面积</th>\n",
       "      <th>建筑时间</th>\n",
       "      <th>是否靠近地铁</th>\n",
       "    </tr>\n",
       "  </thead>\n",
       "  <tbody>\n",
       "    <tr>\n",
       "      <td>0</td>\n",
       "      <td>2016</td>\n",
       "      <td>8</td>\n",
       "      <td>9</td>\n",
       "      <td>106</td>\n",
       "      <td>415.0</td>\n",
       "      <td>131.00</td>\n",
       "      <td>2005</td>\n",
       "      <td>1</td>\n",
       "    </tr>\n",
       "    <tr>\n",
       "      <td>1</td>\n",
       "      <td>2016</td>\n",
       "      <td>7</td>\n",
       "      <td>28</td>\n",
       "      <td>126</td>\n",
       "      <td>575.0</td>\n",
       "      <td>132.38</td>\n",
       "      <td>2004</td>\n",
       "      <td>0</td>\n",
       "    </tr>\n",
       "    <tr>\n",
       "      <td>2</td>\n",
       "      <td>2016</td>\n",
       "      <td>12</td>\n",
       "      <td>11</td>\n",
       "      <td>48</td>\n",
       "      <td>1030.0</td>\n",
       "      <td>198.00</td>\n",
       "      <td>2005</td>\n",
       "      <td>0</td>\n",
       "    </tr>\n",
       "    <tr>\n",
       "      <td>3</td>\n",
       "      <td>2016</td>\n",
       "      <td>9</td>\n",
       "      <td>30</td>\n",
       "      <td>138</td>\n",
       "      <td>297.5</td>\n",
       "      <td>134.00</td>\n",
       "      <td>2008</td>\n",
       "      <td>0</td>\n",
       "    </tr>\n",
       "    <tr>\n",
       "      <td>4</td>\n",
       "      <td>2016</td>\n",
       "      <td>8</td>\n",
       "      <td>28</td>\n",
       "      <td>286</td>\n",
       "      <td>392.0</td>\n",
       "      <td>81.00</td>\n",
       "      <td>1960</td>\n",
       "      <td>1</td>\n",
       "    </tr>\n",
       "    <tr>\n",
       "      <td>...</td>\n",
       "      <td>...</td>\n",
       "      <td>...</td>\n",
       "      <td>...</td>\n",
       "      <td>...</td>\n",
       "      <td>...</td>\n",
       "      <td>...</td>\n",
       "      <td>...</td>\n",
       "      <td>...</td>\n",
       "    </tr>\n",
       "    <tr>\n",
       "      <td>318846</td>\n",
       "      <td>2016</td>\n",
       "      <td>6</td>\n",
       "      <td>10</td>\n",
       "      <td>8</td>\n",
       "      <td>350.0</td>\n",
       "      <td>170.07</td>\n",
       "      <td>2003</td>\n",
       "      <td>0</td>\n",
       "    </tr>\n",
       "    <tr>\n",
       "      <td>318847</td>\n",
       "      <td>2016</td>\n",
       "      <td>6</td>\n",
       "      <td>10</td>\n",
       "      <td>1</td>\n",
       "      <td>108.8</td>\n",
       "      <td>35.09</td>\n",
       "      <td>2009</td>\n",
       "      <td>1</td>\n",
       "    </tr>\n",
       "    <tr>\n",
       "      <td>318848</td>\n",
       "      <td>2016</td>\n",
       "      <td>6</td>\n",
       "      <td>5</td>\n",
       "      <td>2</td>\n",
       "      <td>359.0</td>\n",
       "      <td>102.17</td>\n",
       "      <td>2000</td>\n",
       "      <td>0</td>\n",
       "    </tr>\n",
       "    <tr>\n",
       "      <td>318849</td>\n",
       "      <td>2016</td>\n",
       "      <td>6</td>\n",
       "      <td>12</td>\n",
       "      <td>4</td>\n",
       "      <td>720.0</td>\n",
       "      <td>178.34</td>\n",
       "      <td>2003</td>\n",
       "      <td>0</td>\n",
       "    </tr>\n",
       "    <tr>\n",
       "      <td>318850</td>\n",
       "      <td>2016</td>\n",
       "      <td>6</td>\n",
       "      <td>11</td>\n",
       "      <td>0</td>\n",
       "      <td>450.0</td>\n",
       "      <td>92.45</td>\n",
       "      <td>鏈煡</td>\n",
       "      <td>1</td>\n",
       "    </tr>\n",
       "  </tbody>\n",
       "</table>\n",
       "<p>318851 rows × 8 columns</p>\n",
       "</div>"
      ],
      "text/plain": [
       "        交易时间/年  交易时间/月  交易时间/日  关注数      总价      面积  建筑时间  是否靠近地铁\n",
       "0         2016       8       9  106   415.0  131.00  2005       1\n",
       "1         2016       7      28  126   575.0  132.38  2004       0\n",
       "2         2016      12      11   48  1030.0  198.00  2005       0\n",
       "3         2016       9      30  138   297.5  134.00  2008       0\n",
       "4         2016       8      28  286   392.0   81.00  1960       1\n",
       "...        ...     ...     ...  ...     ...     ...   ...     ...\n",
       "318846    2016       6      10    8   350.0  170.07  2003       0\n",
       "318847    2016       6      10    1   108.8   35.09  2009       1\n",
       "318848    2016       6       5    2   359.0  102.17  2000       0\n",
       "318849    2016       6      12    4   720.0  178.34  2003       0\n",
       "318850    2016       6      11    0   450.0   92.45   鏈煡       1\n",
       "\n",
       "[318851 rows x 8 columns]"
      ]
     },
     "execution_count": 39,
     "metadata": {},
     "output_type": "execute_result"
    }
   ],
   "source": [
    "dat"
   ]
  },
  {
   "cell_type": "code",
   "execution_count": 40,
   "metadata": {},
   "outputs": [],
   "source": [
    "dat[\"avg\"] = dat[\"总价\"]/dat[\"面积\"]"
   ]
  },
  {
   "cell_type": "code",
   "execution_count": 41,
   "metadata": {},
   "outputs": [
    {
     "data": {
      "text/html": [
       "<div>\n",
       "<style scoped>\n",
       "    .dataframe tbody tr th:only-of-type {\n",
       "        vertical-align: middle;\n",
       "    }\n",
       "\n",
       "    .dataframe tbody tr th {\n",
       "        vertical-align: top;\n",
       "    }\n",
       "\n",
       "    .dataframe thead th {\n",
       "        text-align: right;\n",
       "    }\n",
       "</style>\n",
       "<table border=\"1\" class=\"dataframe\">\n",
       "  <thead>\n",
       "    <tr style=\"text-align: right;\">\n",
       "      <th></th>\n",
       "      <th>交易时间/年</th>\n",
       "      <th>交易时间/月</th>\n",
       "      <th>交易时间/日</th>\n",
       "      <th>关注数</th>\n",
       "      <th>总价</th>\n",
       "      <th>面积</th>\n",
       "      <th>建筑时间</th>\n",
       "      <th>是否靠近地铁</th>\n",
       "      <th>avg</th>\n",
       "    </tr>\n",
       "  </thead>\n",
       "  <tbody>\n",
       "    <tr>\n",
       "      <td>0</td>\n",
       "      <td>2016</td>\n",
       "      <td>8</td>\n",
       "      <td>9</td>\n",
       "      <td>106</td>\n",
       "      <td>415.0</td>\n",
       "      <td>131.00</td>\n",
       "      <td>2005</td>\n",
       "      <td>1</td>\n",
       "      <td>3.167939</td>\n",
       "    </tr>\n",
       "    <tr>\n",
       "      <td>1</td>\n",
       "      <td>2016</td>\n",
       "      <td>7</td>\n",
       "      <td>28</td>\n",
       "      <td>126</td>\n",
       "      <td>575.0</td>\n",
       "      <td>132.38</td>\n",
       "      <td>2004</td>\n",
       "      <td>0</td>\n",
       "      <td>4.343556</td>\n",
       "    </tr>\n",
       "    <tr>\n",
       "      <td>2</td>\n",
       "      <td>2016</td>\n",
       "      <td>12</td>\n",
       "      <td>11</td>\n",
       "      <td>48</td>\n",
       "      <td>1030.0</td>\n",
       "      <td>198.00</td>\n",
       "      <td>2005</td>\n",
       "      <td>0</td>\n",
       "      <td>5.202020</td>\n",
       "    </tr>\n",
       "    <tr>\n",
       "      <td>3</td>\n",
       "      <td>2016</td>\n",
       "      <td>9</td>\n",
       "      <td>30</td>\n",
       "      <td>138</td>\n",
       "      <td>297.5</td>\n",
       "      <td>134.00</td>\n",
       "      <td>2008</td>\n",
       "      <td>0</td>\n",
       "      <td>2.220149</td>\n",
       "    </tr>\n",
       "    <tr>\n",
       "      <td>4</td>\n",
       "      <td>2016</td>\n",
       "      <td>8</td>\n",
       "      <td>28</td>\n",
       "      <td>286</td>\n",
       "      <td>392.0</td>\n",
       "      <td>81.00</td>\n",
       "      <td>1960</td>\n",
       "      <td>1</td>\n",
       "      <td>4.839506</td>\n",
       "    </tr>\n",
       "    <tr>\n",
       "      <td>...</td>\n",
       "      <td>...</td>\n",
       "      <td>...</td>\n",
       "      <td>...</td>\n",
       "      <td>...</td>\n",
       "      <td>...</td>\n",
       "      <td>...</td>\n",
       "      <td>...</td>\n",
       "      <td>...</td>\n",
       "      <td>...</td>\n",
       "    </tr>\n",
       "    <tr>\n",
       "      <td>318846</td>\n",
       "      <td>2016</td>\n",
       "      <td>6</td>\n",
       "      <td>10</td>\n",
       "      <td>8</td>\n",
       "      <td>350.0</td>\n",
       "      <td>170.07</td>\n",
       "      <td>2003</td>\n",
       "      <td>0</td>\n",
       "      <td>2.057976</td>\n",
       "    </tr>\n",
       "    <tr>\n",
       "      <td>318847</td>\n",
       "      <td>2016</td>\n",
       "      <td>6</td>\n",
       "      <td>10</td>\n",
       "      <td>1</td>\n",
       "      <td>108.8</td>\n",
       "      <td>35.09</td>\n",
       "      <td>2009</td>\n",
       "      <td>1</td>\n",
       "      <td>3.100598</td>\n",
       "    </tr>\n",
       "    <tr>\n",
       "      <td>318848</td>\n",
       "      <td>2016</td>\n",
       "      <td>6</td>\n",
       "      <td>5</td>\n",
       "      <td>2</td>\n",
       "      <td>359.0</td>\n",
       "      <td>102.17</td>\n",
       "      <td>2000</td>\n",
       "      <td>0</td>\n",
       "      <td>3.513752</td>\n",
       "    </tr>\n",
       "    <tr>\n",
       "      <td>318849</td>\n",
       "      <td>2016</td>\n",
       "      <td>6</td>\n",
       "      <td>12</td>\n",
       "      <td>4</td>\n",
       "      <td>720.0</td>\n",
       "      <td>178.34</td>\n",
       "      <td>2003</td>\n",
       "      <td>0</td>\n",
       "      <td>4.037232</td>\n",
       "    </tr>\n",
       "    <tr>\n",
       "      <td>318850</td>\n",
       "      <td>2016</td>\n",
       "      <td>6</td>\n",
       "      <td>11</td>\n",
       "      <td>0</td>\n",
       "      <td>450.0</td>\n",
       "      <td>92.45</td>\n",
       "      <td>鏈煡</td>\n",
       "      <td>1</td>\n",
       "      <td>4.867496</td>\n",
       "    </tr>\n",
       "  </tbody>\n",
       "</table>\n",
       "<p>318851 rows × 9 columns</p>\n",
       "</div>"
      ],
      "text/plain": [
       "        交易时间/年  交易时间/月  交易时间/日  关注数      总价      面积  建筑时间  是否靠近地铁       avg\n",
       "0         2016       8       9  106   415.0  131.00  2005       1  3.167939\n",
       "1         2016       7      28  126   575.0  132.38  2004       0  4.343556\n",
       "2         2016      12      11   48  1030.0  198.00  2005       0  5.202020\n",
       "3         2016       9      30  138   297.5  134.00  2008       0  2.220149\n",
       "4         2016       8      28  286   392.0   81.00  1960       1  4.839506\n",
       "...        ...     ...     ...  ...     ...     ...   ...     ...       ...\n",
       "318846    2016       6      10    8   350.0  170.07  2003       0  2.057976\n",
       "318847    2016       6      10    1   108.8   35.09  2009       1  3.100598\n",
       "318848    2016       6       5    2   359.0  102.17  2000       0  3.513752\n",
       "318849    2016       6      12    4   720.0  178.34  2003       0  4.037232\n",
       "318850    2016       6      11    0   450.0   92.45   鏈煡       1  4.867496\n",
       "\n",
       "[318851 rows x 9 columns]"
      ]
     },
     "execution_count": 41,
     "metadata": {},
     "output_type": "execute_result"
    }
   ],
   "source": [
    "dat"
   ]
  },
  {
   "cell_type": "code",
   "execution_count": 42,
   "metadata": {},
   "outputs": [
    {
     "data": {
      "text/plain": [
       "[<matplotlib.lines.Line2D at 0x2b5d67f7e88>]"
      ]
     },
     "execution_count": 42,
     "metadata": {},
     "output_type": "execute_result"
    },
    {
     "data": {
      "image/png": "[encoded data removed]",
      "text/plain": [
       "<Figure size 432x288 with 1 Axes>"
      ]
     },
     "metadata": {
      "needs_background": "light"
     },
     "output_type": "display_data"
    }
   ],
   "source": [
    "plt.plot(dat[\"avg\"])"
   ]
  },
  {
   "cell_type": "code",
   "execution_count": 44,
   "metadata": {},
   "outputs": [],
   "source": [
    "dat_metro = dat[dat[\"是否靠近地铁\"] == 1]"
   ]
  },
  {
   "cell_type": "code",
   "execution_count": 45,
   "metadata": {
    "scrolled": true
   },
   "outputs": [
    {
     "data": {
      "text/html": [
       "<div>\n",
       "<style scoped>\n",
       "    .dataframe tbody tr th:only-of-type {\n",
       "        vertical-align: middle;\n",
       "    }\n",
       "\n",
       "    .dataframe tbody tr th {\n",
       "        vertical-align: top;\n",
       "    }\n",
       "\n",
       "    .dataframe thead th {\n",
       "        text-align: right;\n",
       "    }\n",
       "</style>\n",
       "<table border=\"1\" class=\"dataframe\">\n",
       "  <thead>\n",
       "    <tr style=\"text-align: right;\">\n",
       "      <th></th>\n",
       "      <th>交易时间/年</th>\n",
       "      <th>交易时间/月</th>\n",
       "      <th>交易时间/日</th>\n",
       "      <th>关注数</th>\n",
       "      <th>总价</th>\n",
       "      <th>面积</th>\n",
       "      <th>建筑时间</th>\n",
       "      <th>是否靠近地铁</th>\n",
       "      <th>avg</th>\n",
       "    </tr>\n",
       "  </thead>\n",
       "  <tbody>\n",
       "    <tr>\n",
       "      <td>0</td>\n",
       "      <td>2016</td>\n",
       "      <td>8</td>\n",
       "      <td>9</td>\n",
       "      <td>106</td>\n",
       "      <td>415.0</td>\n",
       "      <td>131.00</td>\n",
       "      <td>2005</td>\n",
       "      <td>1</td>\n",
       "      <td>3.167939</td>\n",
       "    </tr>\n",
       "    <tr>\n",
       "      <td>4</td>\n",
       "      <td>2016</td>\n",
       "      <td>8</td>\n",
       "      <td>28</td>\n",
       "      <td>286</td>\n",
       "      <td>392.0</td>\n",
       "      <td>81.00</td>\n",
       "      <td>1960</td>\n",
       "      <td>1</td>\n",
       "      <td>4.839506</td>\n",
       "    </tr>\n",
       "    <tr>\n",
       "      <td>9</td>\n",
       "      <td>2016</td>\n",
       "      <td>9</td>\n",
       "      <td>5</td>\n",
       "      <td>134</td>\n",
       "      <td>380.0</td>\n",
       "      <td>68.00</td>\n",
       "      <td>2009</td>\n",
       "      <td>1</td>\n",
       "      <td>5.588235</td>\n",
       "    </tr>\n",
       "    <tr>\n",
       "      <td>13</td>\n",
       "      <td>2016</td>\n",
       "      <td>8</td>\n",
       "      <td>17</td>\n",
       "      <td>65</td>\n",
       "      <td>896.0</td>\n",
       "      <td>97.70</td>\n",
       "      <td>1991</td>\n",
       "      <td>1</td>\n",
       "      <td>9.170931</td>\n",
       "    </tr>\n",
       "    <tr>\n",
       "      <td>14</td>\n",
       "      <td>2016</td>\n",
       "      <td>6</td>\n",
       "      <td>17</td>\n",
       "      <td>90</td>\n",
       "      <td>285.0</td>\n",
       "      <td>80.13</td>\n",
       "      <td>2001</td>\n",
       "      <td>1</td>\n",
       "      <td>3.556720</td>\n",
       "    </tr>\n",
       "    <tr>\n",
       "      <td>...</td>\n",
       "      <td>...</td>\n",
       "      <td>...</td>\n",
       "      <td>...</td>\n",
       "      <td>...</td>\n",
       "      <td>...</td>\n",
       "      <td>...</td>\n",
       "      <td>...</td>\n",
       "      <td>...</td>\n",
       "      <td>...</td>\n",
       "    </tr>\n",
       "    <tr>\n",
       "      <td>318839</td>\n",
       "      <td>2016</td>\n",
       "      <td>5</td>\n",
       "      <td>28</td>\n",
       "      <td>1</td>\n",
       "      <td>145.0</td>\n",
       "      <td>55.30</td>\n",
       "      <td>鏈煡</td>\n",
       "      <td>1</td>\n",
       "      <td>2.622061</td>\n",
       "    </tr>\n",
       "    <tr>\n",
       "      <td>318841</td>\n",
       "      <td>2016</td>\n",
       "      <td>6</td>\n",
       "      <td>1</td>\n",
       "      <td>0</td>\n",
       "      <td>495.8</td>\n",
       "      <td>154.47</td>\n",
       "      <td>2003</td>\n",
       "      <td>1</td>\n",
       "      <td>3.209685</td>\n",
       "    </tr>\n",
       "    <tr>\n",
       "      <td>318842</td>\n",
       "      <td>2016</td>\n",
       "      <td>6</td>\n",
       "      <td>10</td>\n",
       "      <td>3</td>\n",
       "      <td>124.0</td>\n",
       "      <td>32.89</td>\n",
       "      <td>2008</td>\n",
       "      <td>1</td>\n",
       "      <td>3.770143</td>\n",
       "    </tr>\n",
       "    <tr>\n",
       "      <td>318847</td>\n",
       "      <td>2016</td>\n",
       "      <td>6</td>\n",
       "      <td>10</td>\n",
       "      <td>1</td>\n",
       "      <td>108.8</td>\n",
       "      <td>35.09</td>\n",
       "      <td>2009</td>\n",
       "      <td>1</td>\n",
       "      <td>3.100598</td>\n",
       "    </tr>\n",
       "    <tr>\n",
       "      <td>318850</td>\n",
       "      <td>2016</td>\n",
       "      <td>6</td>\n",
       "      <td>11</td>\n",
       "      <td>0</td>\n",
       "      <td>450.0</td>\n",
       "      <td>92.45</td>\n",
       "      <td>鏈煡</td>\n",
       "      <td>1</td>\n",
       "      <td>4.867496</td>\n",
       "    </tr>\n",
       "  </tbody>\n",
       "</table>\n",
       "<p>191646 rows × 9 columns</p>\n",
       "</div>"
      ],
      "text/plain": [
       "        交易时间/年  交易时间/月  交易时间/日  关注数     总价      面积  建筑时间  是否靠近地铁       avg\n",
       "0         2016       8       9  106  415.0  131.00  2005       1  3.167939\n",
       "4         2016       8      28  286  392.0   81.00  1960       1  4.839506\n",
       "9         2016       9       5  134  380.0   68.00  2009       1  5.588235\n",
       "13        2016       8      17   65  896.0   97.70  1991       1  9.170931\n",
       "14        2016       6      17   90  285.0   80.13  2001       1  3.556720\n",
       "...        ...     ...     ...  ...    ...     ...   ...     ...       ...\n",
       "318839    2016       5      28    1  145.0   55.30   鏈煡       1  2.622061\n",
       "318841    2016       6       1    0  495.8  154.47  2003       1  3.209685\n",
       "318842    2016       6      10    3  124.0   32.89  2008       1  3.770143\n",
       "318847    2016       6      10    1  108.8   35.09  2009       1  3.100598\n",
       "318850    2016       6      11    0  450.0   92.45   鏈煡       1  4.867496\n",
       "\n",
       "[191646 rows x 9 columns]"
      ]
     },
     "execution_count": 45,
     "metadata": {},
     "output_type": "execute_result"
    }
   ],
   "source": [
    "dat_metro"
   ]
  },
  {
   "cell_type": "code",
   "execution_count": 46,
   "metadata": {},
   "outputs": [
    {
     "data": {
      "text/plain": [
       "[<matplotlib.lines.Line2D at 0x2b5d688c748>]"
      ]
     },
     "execution_count": 46,
     "metadata": {},
     "output_type": "execute_result"
    },
    {
     "data": {
      "image/png": "[encoded data removed]",
      "text/plain": [
       "<Figure size 432x288 with 1 Axes>"
      ]
     },
     "metadata": {
      "needs_background": "light"
     },
     "output_type": "display_data"
    }
   ],
   "source": [
    "plt.plot(dat_metro[\"avg\"])"
   ]
  },
  {
   "cell_type": "code",
   "execution_count": 47,
   "metadata": {},
   "outputs": [
    {
     "data": {
      "text/plain": [
       "[<matplotlib.lines.Line2D at 0x2b5d68dcd88>]"
      ]
     },
     "execution_count": 47,
     "metadata": {},
     "output_type": "execute_result"
    },
    {
     "data": {
      "image/png": "[encoded data removed]",
      "text/plain": [
       "<Figure size 432x288 with 1 Axes>"
      ]
     },
     "metadata": {
      "needs_background": "light"
     },
     "output_type": "display_data"
    }
   ],
   "source": [
    "plt.plot((dat[dat[\"是否靠近地铁\"] == 0])[\"avg\"])"
   ]
  },
  {
   "cell_type": "code",
   "execution_count": 48,
   "metadata": {},
   "outputs": [
    {
     "data": {
      "text/html": [
       "<div>\n",
       "<style scoped>\n",
       "    .dataframe tbody tr th:only-of-type {\n",
       "        vertical-align: middle;\n",
       "    }\n",
       "\n",
       "    .dataframe tbody tr th {\n",
       "        vertical-align: top;\n",
       "    }\n",
       "\n",
       "    .dataframe thead th {\n",
       "        text-align: right;\n",
       "    }\n",
       "</style>\n",
       "<table border=\"1\" class=\"dataframe\">\n",
       "  <thead>\n",
       "    <tr style=\"text-align: right;\">\n",
       "      <th></th>\n",
       "      <th>交易时间/年</th>\n",
       "      <th>交易时间/月</th>\n",
       "      <th>交易时间/日</th>\n",
       "      <th>关注数</th>\n",
       "      <th>总价</th>\n",
       "      <th>面积</th>\n",
       "      <th>建筑时间</th>\n",
       "      <th>是否靠近地铁</th>\n",
       "      <th>avg</th>\n",
       "    </tr>\n",
       "  </thead>\n",
       "  <tbody>\n",
       "    <tr>\n",
       "      <td>0</td>\n",
       "      <td>2016</td>\n",
       "      <td>8</td>\n",
       "      <td>9</td>\n",
       "      <td>106</td>\n",
       "      <td>415.0</td>\n",
       "      <td>131.00</td>\n",
       "      <td>2005</td>\n",
       "      <td>1</td>\n",
       "      <td>3.167939</td>\n",
       "    </tr>\n",
       "    <tr>\n",
       "      <td>1</td>\n",
       "      <td>2016</td>\n",
       "      <td>7</td>\n",
       "      <td>28</td>\n",
       "      <td>126</td>\n",
       "      <td>575.0</td>\n",
       "      <td>132.38</td>\n",
       "      <td>2004</td>\n",
       "      <td>0</td>\n",
       "      <td>4.343556</td>\n",
       "    </tr>\n",
       "    <tr>\n",
       "      <td>2</td>\n",
       "      <td>2016</td>\n",
       "      <td>12</td>\n",
       "      <td>11</td>\n",
       "      <td>48</td>\n",
       "      <td>1030.0</td>\n",
       "      <td>198.00</td>\n",
       "      <td>2005</td>\n",
       "      <td>0</td>\n",
       "      <td>5.202020</td>\n",
       "    </tr>\n",
       "    <tr>\n",
       "      <td>3</td>\n",
       "      <td>2016</td>\n",
       "      <td>9</td>\n",
       "      <td>30</td>\n",
       "      <td>138</td>\n",
       "      <td>297.5</td>\n",
       "      <td>134.00</td>\n",
       "      <td>2008</td>\n",
       "      <td>0</td>\n",
       "      <td>2.220149</td>\n",
       "    </tr>\n",
       "    <tr>\n",
       "      <td>4</td>\n",
       "      <td>2016</td>\n",
       "      <td>8</td>\n",
       "      <td>28</td>\n",
       "      <td>286</td>\n",
       "      <td>392.0</td>\n",
       "      <td>81.00</td>\n",
       "      <td>1960</td>\n",
       "      <td>1</td>\n",
       "      <td>4.839506</td>\n",
       "    </tr>\n",
       "    <tr>\n",
       "      <td>...</td>\n",
       "      <td>...</td>\n",
       "      <td>...</td>\n",
       "      <td>...</td>\n",
       "      <td>...</td>\n",
       "      <td>...</td>\n",
       "      <td>...</td>\n",
       "      <td>...</td>\n",
       "      <td>...</td>\n",
       "      <td>...</td>\n",
       "    </tr>\n",
       "    <tr>\n",
       "      <td>318846</td>\n",
       "      <td>2016</td>\n",
       "      <td>6</td>\n",
       "      <td>10</td>\n",
       "      <td>8</td>\n",
       "      <td>350.0</td>\n",
       "      <td>170.07</td>\n",
       "      <td>2003</td>\n",
       "      <td>0</td>\n",
       "      <td>2.057976</td>\n",
       "    </tr>\n",
       "    <tr>\n",
       "      <td>318847</td>\n",
       "      <td>2016</td>\n",
       "      <td>6</td>\n",
       "      <td>10</td>\n",
       "      <td>1</td>\n",
       "      <td>108.8</td>\n",
       "      <td>35.09</td>\n",
       "      <td>2009</td>\n",
       "      <td>1</td>\n",
       "      <td>3.100598</td>\n",
       "    </tr>\n",
       "    <tr>\n",
       "      <td>318848</td>\n",
       "      <td>2016</td>\n",
       "      <td>6</td>\n",
       "      <td>5</td>\n",
       "      <td>2</td>\n",
       "      <td>359.0</td>\n",
       "      <td>102.17</td>\n",
       "      <td>2000</td>\n",
       "      <td>0</td>\n",
       "      <td>3.513752</td>\n",
       "    </tr>\n",
       "    <tr>\n",
       "      <td>318849</td>\n",
       "      <td>2016</td>\n",
       "      <td>6</td>\n",
       "      <td>12</td>\n",
       "      <td>4</td>\n",
       "      <td>720.0</td>\n",
       "      <td>178.34</td>\n",
       "      <td>2003</td>\n",
       "      <td>0</td>\n",
       "      <td>4.037232</td>\n",
       "    </tr>\n",
       "    <tr>\n",
       "      <td>318850</td>\n",
       "      <td>2016</td>\n",
       "      <td>6</td>\n",
       "      <td>11</td>\n",
       "      <td>0</td>\n",
       "      <td>450.0</td>\n",
       "      <td>92.45</td>\n",
       "      <td>鏈煡</td>\n",
       "      <td>1</td>\n",
       "      <td>4.867496</td>\n",
       "    </tr>\n",
       "  </tbody>\n",
       "</table>\n",
       "<p>318851 rows × 9 columns</p>\n",
       "</div>"
      ],
      "text/plain": [
       "        交易时间/年  交易时间/月  交易时间/日  关注数      总价      面积  建筑时间  是否靠近地铁       avg\n",
       "0         2016       8       9  106   415.0  131.00  2005       1  3.167939\n",
       "1         2016       7      28  126   575.0  132.38  2004       0  4.343556\n",
       "2         2016      12      11   48  1030.0  198.00  2005       0  5.202020\n",
       "3         2016       9      30  138   297.5  134.00  2008       0  2.220149\n",
       "4         2016       8      28  286   392.0   81.00  1960       1  4.839506\n",
       "...        ...     ...     ...  ...     ...     ...   ...     ...       ...\n",
       "318846    2016       6      10    8   350.0  170.07  2003       0  2.057976\n",
       "318847    2016       6      10    1   108.8   35.09  2009       1  3.100598\n",
       "318848    2016       6       5    2   359.0  102.17  2000       0  3.513752\n",
       "318849    2016       6      12    4   720.0  178.34  2003       0  4.037232\n",
       "318850    2016       6      11    0   450.0   92.45   鏈煡       1  4.867496\n",
       "\n",
       "[318851 rows x 9 columns]"
      ]
     },
     "execution_count": 48,
     "metadata": {},
     "output_type": "execute_result"
    }
   ],
   "source": [
    "dat"
   ]
  },
  {
   "cell_type": "code",
   "execution_count": 55,
   "metadata": {},
   "outputs": [],
   "source": [
    "dat[\"count\"] = 1"
   ]
  },
  {
   "cell_type": "code",
   "execution_count": 56,
   "metadata": {
    "scrolled": true
   },
   "outputs": [
    {
     "data": {
      "text/html": [
       "<div>\n",
       "<style scoped>\n",
       "    .dataframe tbody tr th:only-of-type {\n",
       "        vertical-align: middle;\n",
       "    }\n",
       "\n",
       "    .dataframe tbody tr th {\n",
       "        vertical-align: top;\n",
       "    }\n",
       "\n",
       "    .dataframe thead th {\n",
       "        text-align: right;\n",
       "    }\n",
       "</style>\n",
       "<table border=\"1\" class=\"dataframe\">\n",
       "  <thead>\n",
       "    <tr style=\"text-align: right;\">\n",
       "      <th></th>\n",
       "      <th>交易时间/年</th>\n",
       "      <th>交易时间/月</th>\n",
       "      <th>交易时间/日</th>\n",
       "      <th>关注数</th>\n",
       "      <th>总价</th>\n",
       "      <th>面积</th>\n",
       "      <th>建筑时间</th>\n",
       "      <th>是否靠近地铁</th>\n",
       "      <th>avg</th>\n",
       "      <th>count</th>\n",
       "    </tr>\n",
       "  </thead>\n",
       "  <tbody>\n",
       "    <tr>\n",
       "      <td>0</td>\n",
       "      <td>2016</td>\n",
       "      <td>8</td>\n",
       "      <td>9</td>\n",
       "      <td>106</td>\n",
       "      <td>415.0</td>\n",
       "      <td>131.00</td>\n",
       "      <td>2005</td>\n",
       "      <td>1</td>\n",
       "      <td>3.167939</td>\n",
       "      <td>1</td>\n",
       "    </tr>\n",
       "    <tr>\n",
       "      <td>1</td>\n",
       "      <td>2016</td>\n",
       "      <td>7</td>\n",
       "      <td>28</td>\n",
       "      <td>126</td>\n",
       "      <td>575.0</td>\n",
       "      <td>132.38</td>\n",
       "      <td>2004</td>\n",
       "      <td>0</td>\n",
       "      <td>4.343556</td>\n",
       "      <td>1</td>\n",
       "    </tr>\n",
       "    <tr>\n",
       "      <td>2</td>\n",
       "      <td>2016</td>\n",
       "      <td>12</td>\n",
       "      <td>11</td>\n",
       "      <td>48</td>\n",
       "      <td>1030.0</td>\n",
       "      <td>198.00</td>\n",
       "      <td>2005</td>\n",
       "      <td>0</td>\n",
       "      <td>5.202020</td>\n",
       "      <td>1</td>\n",
       "    </tr>\n",
       "    <tr>\n",
       "      <td>3</td>\n",
       "      <td>2016</td>\n",
       "      <td>9</td>\n",
       "      <td>30</td>\n",
       "      <td>138</td>\n",
       "      <td>297.5</td>\n",
       "      <td>134.00</td>\n",
       "      <td>2008</td>\n",
       "      <td>0</td>\n",
       "      <td>2.220149</td>\n",
       "      <td>1</td>\n",
       "    </tr>\n",
       "    <tr>\n",
       "      <td>4</td>\n",
       "      <td>2016</td>\n",
       "      <td>8</td>\n",
       "      <td>28</td>\n",
       "      <td>286</td>\n",
       "      <td>392.0</td>\n",
       "      <td>81.00</td>\n",
       "      <td>1960</td>\n",
       "      <td>1</td>\n",
       "      <td>4.839506</td>\n",
       "      <td>1</td>\n",
       "    </tr>\n",
       "    <tr>\n",
       "      <td>...</td>\n",
       "      <td>...</td>\n",
       "      <td>...</td>\n",
       "      <td>...</td>\n",
       "      <td>...</td>\n",
       "      <td>...</td>\n",
       "      <td>...</td>\n",
       "      <td>...</td>\n",
       "      <td>...</td>\n",
       "      <td>...</td>\n",
       "      <td>...</td>\n",
       "    </tr>\n",
       "    <tr>\n",
       "      <td>318846</td>\n",
       "      <td>2016</td>\n",
       "      <td>6</td>\n",
       "      <td>10</td>\n",
       "      <td>8</td>\n",
       "      <td>350.0</td>\n",
       "      <td>170.07</td>\n",
       "      <td>2003</td>\n",
       "      <td>0</td>\n",
       "      <td>2.057976</td>\n",
       "      <td>1</td>\n",
       "    </tr>\n",
       "    <tr>\n",
       "      <td>318847</td>\n",
       "      <td>2016</td>\n",
       "      <td>6</td>\n",
       "      <td>10</td>\n",
       "      <td>1</td>\n",
       "      <td>108.8</td>\n",
       "      <td>35.09</td>\n",
       "      <td>2009</td>\n",
       "      <td>1</td>\n",
       "      <td>3.100598</td>\n",
       "      <td>1</td>\n",
       "    </tr>\n",
       "    <tr>\n",
       "      <td>318848</td>\n",
       "      <td>2016</td>\n",
       "      <td>6</td>\n",
       "      <td>5</td>\n",
       "      <td>2</td>\n",
       "      <td>359.0</td>\n",
       "      <td>102.17</td>\n",
       "      <td>2000</td>\n",
       "      <td>0</td>\n",
       "      <td>3.513752</td>\n",
       "      <td>1</td>\n",
       "    </tr>\n",
       "    <tr>\n",
       "      <td>318849</td>\n",
       "      <td>2016</td>\n",
       "      <td>6</td>\n",
       "      <td>12</td>\n",
       "      <td>4</td>\n",
       "      <td>720.0</td>\n",
       "      <td>178.34</td>\n",
       "      <td>2003</td>\n",
       "      <td>0</td>\n",
       "      <td>4.037232</td>\n",
       "      <td>1</td>\n",
       "    </tr>\n",
       "    <tr>\n",
       "      <td>318850</td>\n",
       "      <td>2016</td>\n",
       "      <td>6</td>\n",
       "      <td>11</td>\n",
       "      <td>0</td>\n",
       "      <td>450.0</td>\n",
       "      <td>92.45</td>\n",
       "      <td>鏈煡</td>\n",
       "      <td>1</td>\n",
       "      <td>4.867496</td>\n",
       "      <td>1</td>\n",
       "    </tr>\n",
       "  </tbody>\n",
       "</table>\n",
       "<p>318851 rows × 10 columns</p>\n",
       "</div>"
      ],
      "text/plain": [
       "        交易时间/年  交易时间/月  交易时间/日  关注数      总价      面积  建筑时间  是否靠近地铁       avg  \\\n",
       "0         2016       8       9  106   415.0  131.00  2005       1  3.167939   \n",
       "1         2016       7      28  126   575.0  132.38  2004       0  4.343556   \n",
       "2         2016      12      11   48  1030.0  198.00  2005       0  5.202020   \n",
       "3         2016       9      30  138   297.5  134.00  2008       0  2.220149   \n",
       "4         2016       8      28  286   392.0   81.00  1960       1  4.839506   \n",
       "...        ...     ...     ...  ...     ...     ...   ...     ...       ...   \n",
       "318846    2016       6      10    8   350.0  170.07  2003       0  2.057976   \n",
       "318847    2016       6      10    1   108.8   35.09  2009       1  3.100598   \n",
       "318848    2016       6       5    2   359.0  102.17  2000       0  3.513752   \n",
       "318849    2016       6      12    4   720.0  178.34  2003       0  4.037232   \n",
       "318850    2016       6      11    0   450.0   92.45   鏈煡       1  4.867496   \n",
       "\n",
       "        count  \n",
       "0           1  \n",
       "1           1  \n",
       "2           1  \n",
       "3           1  \n",
       "4           1  \n",
       "...       ...  \n",
       "318846      1  \n",
       "318847      1  \n",
       "318848      1  \n",
       "318849      1  \n",
       "318850      1  \n",
       "\n",
       "[318851 rows x 10 columns]"
      ]
     },
     "execution_count": 56,
     "metadata": {},
     "output_type": "execute_result"
    }
   ],
   "source": [
    "dat"
   ]
  },
  {
   "cell_type": "code",
   "execution_count": 57,
   "metadata": {},
   "outputs": [
    {
     "data": {
      "text/html": [
       "<div>\n",
       "<style scoped>\n",
       "    .dataframe tbody tr th:only-of-type {\n",
       "        vertical-align: middle;\n",
       "    }\n",
       "\n",
       "    .dataframe tbody tr th {\n",
       "        vertical-align: top;\n",
       "    }\n",
       "\n",
       "    .dataframe thead th {\n",
       "        text-align: right;\n",
       "    }\n",
       "</style>\n",
       "<table border=\"1\" class=\"dataframe\">\n",
       "  <thead>\n",
       "    <tr style=\"text-align: right;\">\n",
       "      <th></th>\n",
       "      <th>交易时间/年</th>\n",
       "      <th>交易时间/日</th>\n",
       "      <th>关注数</th>\n",
       "      <th>总价</th>\n",
       "      <th>面积</th>\n",
       "      <th>是否靠近地铁</th>\n",
       "      <th>avg</th>\n",
       "      <th>count</th>\n",
       "    </tr>\n",
       "    <tr>\n",
       "      <th>交易时间/月</th>\n",
       "      <th></th>\n",
       "      <th></th>\n",
       "      <th></th>\n",
       "      <th></th>\n",
       "      <th></th>\n",
       "      <th></th>\n",
       "      <th></th>\n",
       "      <th></th>\n",
       "    </tr>\n",
       "  </thead>\n",
       "  <tbody>\n",
       "    <tr>\n",
       "      <td>4</td>\n",
       "      <td>42408182</td>\n",
       "      <td>323871</td>\n",
       "      <td>254161</td>\n",
       "      <td>7018290.2</td>\n",
       "      <td>1756385.51</td>\n",
       "      <td>237300</td>\n",
       "      <td>87068.284852</td>\n",
       "      <td>21048</td>\n",
       "    </tr>\n",
       "    <tr>\n",
       "      <td>5</td>\n",
       "      <td>44487318</td>\n",
       "      <td>365977</td>\n",
       "      <td>260779</td>\n",
       "      <td>7210338.7</td>\n",
       "      <td>1834685.37</td>\n",
       "      <td>124140</td>\n",
       "      <td>89599.546198</td>\n",
       "      <td>22082</td>\n",
       "    </tr>\n",
       "    <tr>\n",
       "      <td>2</td>\n",
       "      <td>45669835</td>\n",
       "      <td>432126</td>\n",
       "      <td>454834</td>\n",
       "      <td>8319803.4</td>\n",
       "      <td>1861832.58</td>\n",
       "      <td>52889</td>\n",
       "      <td>106067.433856</td>\n",
       "      <td>22661</td>\n",
       "    </tr>\n",
       "    <tr>\n",
       "      <td>6</td>\n",
       "      <td>47713181</td>\n",
       "      <td>391744</td>\n",
       "      <td>309253</td>\n",
       "      <td>7661050.2</td>\n",
       "      <td>1971835.01</td>\n",
       "      <td>112870</td>\n",
       "      <td>95053.166952</td>\n",
       "      <td>23684</td>\n",
       "    </tr>\n",
       "    <tr>\n",
       "      <td>1</td>\n",
       "      <td>49312183</td>\n",
       "      <td>368579</td>\n",
       "      <td>367486</td>\n",
       "      <td>8389951.5</td>\n",
       "      <td>2043539.17</td>\n",
       "      <td>172888</td>\n",
       "      <td>104485.053510</td>\n",
       "      <td>24470</td>\n",
       "    </tr>\n",
       "    <tr>\n",
       "      <td>10</td>\n",
       "      <td>50057051</td>\n",
       "      <td>429082</td>\n",
       "      <td>404027</td>\n",
       "      <td>8246100.1</td>\n",
       "      <td>2050313.91</td>\n",
       "      <td>234961</td>\n",
       "      <td>103816.039881</td>\n",
       "      <td>24851</td>\n",
       "    </tr>\n",
       "    <tr>\n",
       "      <td>11</td>\n",
       "      <td>50331790</td>\n",
       "      <td>422640</td>\n",
       "      <td>470263</td>\n",
       "      <td>8533564.9</td>\n",
       "      <td>2060672.72</td>\n",
       "      <td>265817</td>\n",
       "      <td>107103.442167</td>\n",
       "      <td>24986</td>\n",
       "    </tr>\n",
       "    <tr>\n",
       "      <td>7</td>\n",
       "      <td>53713360</td>\n",
       "      <td>463757</td>\n",
       "      <td>444671</td>\n",
       "      <td>9063414.5</td>\n",
       "      <td>2197395.65</td>\n",
       "      <td>119191</td>\n",
       "      <td>114007.783460</td>\n",
       "      <td>26660</td>\n",
       "    </tr>\n",
       "    <tr>\n",
       "      <td>9</td>\n",
       "      <td>56588338</td>\n",
       "      <td>457034</td>\n",
       "      <td>573885</td>\n",
       "      <td>10711909.0</td>\n",
       "      <td>2362397.85</td>\n",
       "      <td>92892</td>\n",
       "      <td>132258.009908</td>\n",
       "      <td>28086</td>\n",
       "    </tr>\n",
       "    <tr>\n",
       "      <td>8</td>\n",
       "      <td>61713070</td>\n",
       "      <td>546056</td>\n",
       "      <td>569770</td>\n",
       "      <td>11024224.4</td>\n",
       "      <td>2547606.58</td>\n",
       "      <td>18313</td>\n",
       "      <td>137320.323016</td>\n",
       "      <td>30628</td>\n",
       "    </tr>\n",
       "    <tr>\n",
       "      <td>12</td>\n",
       "      <td>63743036</td>\n",
       "      <td>521962</td>\n",
       "      <td>651310</td>\n",
       "      <td>11043497.7</td>\n",
       "      <td>2625699.66</td>\n",
       "      <td>57845</td>\n",
       "      <td>138678.043670</td>\n",
       "      <td>31643</td>\n",
       "    </tr>\n",
       "    <tr>\n",
       "      <td>3</td>\n",
       "      <td>76678531</td>\n",
       "      <td>547622</td>\n",
       "      <td>574419</td>\n",
       "      <td>14066483.9</td>\n",
       "      <td>3228983.49</td>\n",
       "      <td>173551</td>\n",
       "      <td>172500.593858</td>\n",
       "      <td>38052</td>\n",
       "    </tr>\n",
       "  </tbody>\n",
       "</table>\n",
       "</div>"
      ],
      "text/plain": [
       "          交易时间/年  交易时间/日     关注数          总价          面积  是否靠近地铁  \\\n",
       "交易时间/月                                                             \n",
       "4       42408182  323871  254161   7018290.2  1756385.51  237300   \n",
       "5       44487318  365977  260779   7210338.7  1834685.37  124140   \n",
       "2       45669835  432126  454834   8319803.4  1861832.58   52889   \n",
       "6       47713181  391744  309253   7661050.2  1971835.01  112870   \n",
       "1       49312183  368579  367486   8389951.5  2043539.17  172888   \n",
       "10      50057051  429082  404027   8246100.1  2050313.91  234961   \n",
       "11      50331790  422640  470263   8533564.9  2060672.72  265817   \n",
       "7       53713360  463757  444671   9063414.5  2197395.65  119191   \n",
       "9       56588338  457034  573885  10711909.0  2362397.85   92892   \n",
       "8       61713070  546056  569770  11024224.4  2547606.58   18313   \n",
       "12      63743036  521962  651310  11043497.7  2625699.66   57845   \n",
       "3       76678531  547622  574419  14066483.9  3228983.49  173551   \n",
       "\n",
       "                  avg  count  \n",
       "交易时间/月                        \n",
       "4        87068.284852  21048  \n",
       "5        89599.546198  22082  \n",
       "2       106067.433856  22661  \n",
       "6        95053.166952  23684  \n",
       "1       104485.053510  24470  \n",
       "10      103816.039881  24851  \n",
       "11      107103.442167  24986  \n",
       "7       114007.783460  26660  \n",
       "9       132258.009908  28086  \n",
       "8       137320.323016  30628  \n",
       "12      138678.043670  31643  \n",
       "3       172500.593858  38052  "
      ]
     },
     "execution_count": 57,
     "metadata": {},
     "output_type": "execute_result"
    }
   ],
   "source": [
    "dat.groupby(\"交易时间/月\").sum().sort_values(by=\"count\")"
   ]
  },
  {
   "cell_type": "code",
   "execution_count": 58,
   "metadata": {},
   "outputs": [],
   "source": [
    "a = dat.groupby(\"交易时间/月\").sum().sort_values(by=\"count\")"
   ]
  },
  {
   "cell_type": "code",
   "execution_count": 61,
   "metadata": {
    "scrolled": false
   },
   "outputs": [
    {
     "data": {
      "text/plain": [
       "([<matplotlib.patches.Wedge at 0x2b5d69dd308>,\n",
       "  <matplotlib.patches.Wedge at 0x2b5d69ddac8>,\n",
       "  <matplotlib.patches.Wedge at 0x2b5d69e6408>,\n",
       "  <matplotlib.patches.Wedge at 0x2b5d69e6d48>,\n",
       "  <matplotlib.patches.Wedge at 0x2b5d69efa08>,\n",
       "  <matplotlib.patches.Wedge at 0x2b5d6b764c8>,\n",
       "  <matplotlib.patches.Wedge at 0x2b5d6b76c08>,\n",
       "  <matplotlib.patches.Wedge at 0x2b5d6b80608>,\n",
       "  <matplotlib.patches.Wedge at 0x2b5d69ef748>,\n",
       "  <matplotlib.patches.Wedge at 0x2b5d6b76208>,\n",
       "  <matplotlib.patches.Wedge at 0x2b5d69b57c8>,\n",
       "  <matplotlib.patches.Wedge at 0x2b5d6b93b88>],\n",
       " [Text(1.0764304393691566, 0.2264895344150022, '4'),\n",
       "  Text(0.8873136229185362, 0.6501342435091249, '5'),\n",
       "  Text(0.5250628108856313, 0.9665966297400793, '2'),\n",
       "  Text(0.04506861100828536, 1.0990763487136752, '6'),\n",
       "  Text(-0.46202608594445826, 0.998264441872415, '1'),\n",
       "  Text(-0.8747778673482124, 0.6669060524524527, '10'),\n",
       "  Text(-1.0858911594131473, 0.17561432147854855, '11'),\n",
       "  Text(-1.0338651784206003, -0.3756631374640588, '7'),\n",
       "  Text(-0.6941215603810286, -0.8533435764182011, '9'),\n",
       "  Text(-0.11459461468160019, -1.0940146590818496, '8'),\n",
       "  Text(0.5362083975179093, -0.9604585126028484, '12'),\n",
       "  Text(1.0235903141107778, -0.40281865505286535, '3')],\n",
       " [Text(0.5871438760195399, 0.12353974604454662, '6.6%'),\n",
       "  Text(0.48398924886465605, 0.35461867827770444, '6.9%'),\n",
       "  Text(0.28639789684670797, 0.5272345253127705, '7.1%'),\n",
       "  Text(0.024582878731792015, 0.5994961902074591, '7.4%'),\n",
       "  Text(-0.2520142286969772, 0.5445078773849535, '7.7%'),\n",
       "  Text(-0.4771515640081158, 0.3637669377013378, '7.8%'),\n",
       "  Text(-0.5923042687708076, 0.09578962989739011, '7.8%'),\n",
       "  Text(-0.5639264609566911, -0.2049071658894866, '8.4%'),\n",
       "  Text(-0.37861176020783377, -0.465460132591746, '8.8%'),\n",
       "  Text(-0.062506153462691, -0.5967352685900997, '9.6%'),\n",
       "  Text(0.2924773077370414, -0.5238864614197354, '9.9%'),\n",
       "  Text(0.5583219895149697, -0.219719266392472, '11.9%')])"
      ]
     },
     "execution_count": 61,
     "metadata": {},
     "output_type": "execute_result"
    },
    {
     "data": {
      "image/png": "[encoded data removed]",
      "text/plain": [
       "<Figure size 432x288 with 1 Axes>"
      ]
     },
     "metadata": {},
     "output_type": "display_data"
    }
   ],
   "source": [
    "plt.pie(a[\"count\"], labels=a.index, autopct='%1.1f%%')"
   ]
  },
  {
   "cell_type": "code",
   "execution_count": null,
   "metadata": {},
   "outputs": [],
   "source": []
  }
 ],
 "metadata": {
  "kernelspec": {
   "display_name": "Python 3",
   "language": "python",
   "name": "python3"
  },
  "language_info": {
   "codemirror_mode": {
    "name": "ipython",
    "version": 3
   },
   "file_extension": ".py",
   "mimetype": "text/x-python",
   "name": "python",
   "nbconvert_exporter": "python",
   "pygments_lexer": "ipython3",
   "version": "3.7.4"
  }
 },
 "nbformat": 4,
 "nbformat_minor": 2
}
